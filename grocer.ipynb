{
 "cells": [
  {
   "cell_type": "code",
   "execution_count": 1,
   "id": "524580e2-4b3c-45a5-aa4f-33f05bec1285",
   "metadata": {},
   "outputs": [],
   "source": [
    "import pandas as pd\n",
    "import numpy as np\n",
    "import matplotlib.pyplot as plt\n",
    "import seaborn as sns\n"
   ]
  },
  {
   "cell_type": "code",
   "execution_count": 2,
   "id": "b8cb29f9-1473-49ed-a3fb-23a43cd77fef",
   "metadata": {},
   "outputs": [
    {
     "name": "stdout",
     "output_type": "stream",
     "text": [
      "       Member_number        Date        itemDescription\n",
      "0               1808  21-07-2015         tropical fruit\n",
      "1               2552  05-01-2015             whole milk\n",
      "2               2300  19-09-2015              pip fruit\n",
      "3               1187  12-12-2015       other vegetables\n",
      "4               3037  01-02-2015             whole milk\n",
      "...              ...         ...                    ...\n",
      "38760           4471  08-10-2014          sliced cheese\n",
      "38761           2022  23-02-2014                  candy\n",
      "38762           1097  16-04-2014               cake bar\n",
      "38763           1510  03-12-2014  fruit/vegetable juice\n",
      "38764           1521  26-12-2014               cat food\n",
      "\n",
      "[38765 rows x 3 columns]\n"
     ]
    }
   ],
   "source": [
    "data = pd.read_csv(\"Groceries_dataset.csv\")\n",
    "print(data)\n"
   ]
  },
  {
   "cell_type": "code",
   "execution_count": null,
   "id": "b88ee6f4-32bb-4d2b-9a72-331539b6e7a6",
   "metadata": {},
   "outputs": [],
   "source": [
    "                                    "
   ]
  }
 ],
 "metadata": {
  "kernelspec": {
   "display_name": "Python 3 (ipykernel)",
   "language": "python",
   "name": "python3"
  },
  "language_info": {
   "codemirror_mode": {
    "name": "ipython",
    "version": 3
   },
   "file_extension": ".py",
   "mimetype": "text/x-python",
   "name": "python",
   "nbconvert_exporter": "python",
   "pygments_lexer": "ipython3",
   "version": "3.12.7"
  }
 },
 "nbformat": 4,
 "nbformat_minor": 5
}
